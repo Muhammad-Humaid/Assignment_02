{
 "cells": [
  {
   "cell_type": "markdown",
   "id": "90b36442-ad54-4f7d-ad39-a8e5645d24f9",
   "metadata": {},
   "source": [
    "<h1><center> بسم الله الرحمن الرحيم</center></h1>"
   ]
  },
  {
   "cell_type": "markdown",
   "id": "9ffc616d-94e0-4807-98ae-c91c86898358",
   "metadata": {},
   "source": [
    "# Name: Muhammad Humaid Abid\n",
    "# Email: SP24-BAI-033@cuilahore.edu.pk\n",
    "\n",
    "## A Wise Teacher Once Said:\n",
    "\n",
    "<h1><center>قَالُوا سُبْحَانَكَ لَا عِلْمَ لَنَا إِلَّا مَا عَلَّمْتَنَا ۖ إِنَّكَ أَنتَ الْعَلِيمُ الْحَكِيمُ</center></h1>\n",
    "<h1><center>They said, \"Exalted are You; we have no knowledge except what You have taught us. Indeed, it is You who is the Knowing, the Wise.\"</center></h1>"
   ]
  },
  {
   "cell_type": "markdown",
   "id": "94d03bb7-9bce-49c2-9dee-ee8fa9108b8c",
   "metadata": {},
   "source": [
    "# All To-Do Tasks Of Lecture 14:"
   ]
  },
  {
   "cell_type": "markdown",
   "id": "7b3d846e-01b2-4aff-986a-ac23adae6b84",
   "metadata": {},
   "source": [
    "## No Return Type, No Arguments / Parameters\n",
    "\n",
    "1) Write A Program To Find Square Of A Number:"
   ]
  },
  {
   "cell_type": "code",
   "execution_count": 12,
   "id": "27c135d3-0c05-405f-8a77-dbbcfbdb1aa4",
   "metadata": {},
   "outputs": [
    {
     "name": "stdin",
     "output_type": "stream",
     "text": [
      "Enter A Number To Find It's Square:  65\n"
     ]
    },
    {
     "name": "stdout",
     "output_type": "stream",
     "text": [
      "The Square Of The 65 Is: 4225\n"
     ]
    }
   ],
   "source": [
    "def Square():\n",
    "        try:\n",
    "            Num = int(input(\"Enter A Number To Find It's Square: \"))\n",
    "            Square = Num ** 2\n",
    "            print(f\"The Square Of The {Num} Is: {Square}\")\n",
    "        except ValueError:\n",
    "            print(\"Invalid Input, Enter An INTEGER Value.\")\n",
    "        \n",
    "if __name__ == \"__main__\":\n",
    "    Square();\n",
    "        "
   ]
  },
  {
   "cell_type": "markdown",
   "id": "7fa13bd1-6319-402d-96d9-2972796f51f4",
   "metadata": {},
   "source": [
    "2) Write A Program To Add Two Float Numbers:\n"
   ]
  },
  {
   "cell_type": "code",
   "execution_count": 8,
   "id": "0c3731be-51bd-41a3-9c35-619b7b47f6f8",
   "metadata": {},
   "outputs": [
    {
     "name": "stdin",
     "output_type": "stream",
     "text": [
      "Enter The First Number:  5\n",
      "Enter The Second Number:  10\n"
     ]
    },
    {
     "name": "stdout",
     "output_type": "stream",
     "text": [
      "Result Of 5.0 + 10.0 = 15.0\n"
     ]
    }
   ],
   "source": [
    "def Add():\n",
    "    try:\n",
    "        Num1 = float(input(\"Enter The First Number: \"))\n",
    "        Num2 = float(input(\"Enter The Second Number: \"))\n",
    "        \n",
    "        Result = Num1 + Num2\n",
    "        print(f\"Sum Of {Num1} + {Num2} Is {Result}\")\n",
    "\n",
    "    except ValueError:\n",
    "        print(\"Enter An Integer/Float Number.\")\n",
    "        \n",
    "if __name__ == \"__main__\":\n",
    "    Add();"
   ]
  },
  {
   "cell_type": "markdown",
   "id": "d5a1cb05-46e2-496a-83de-3e9f840555e4",
   "metadata": {},
   "source": [
    "3) Write A Program To Check If It Is An Even Number Or An Odd Number: "
   ]
  },
  {
   "cell_type": "code",
   "execution_count": 10,
   "id": "20582a8b-14be-41c1-b546-06ee8ef65a5e",
   "metadata": {},
   "outputs": [
    {
     "name": "stdin",
     "output_type": "stream",
     "text": [
      "Enter A Number:  24\n"
     ]
    },
    {
     "name": "stdout",
     "output_type": "stream",
     "text": [
      "24 Is An Even Number\n"
     ]
    }
   ],
   "source": [
    "def Even_Odd():\n",
    "    try:\n",
    "        Num = int(input(\"Enter A Number: \"))\n",
    "        \n",
    "        if Num % 2 == 0:\n",
    "            print(f\"{Num} Is An Even Number\")\n",
    "        else:\n",
    "            print(f\"{Num} Is An Odd Number\")\n",
    "            \n",
    "    except ValueError:\n",
    "        print(\"Invalid Input. Please Enter An Integer Number/Value.\")\n",
    "        \n",
    "if __name__ == \"__main__\":\n",
    "    Even_Odd()\n",
    "        "
   ]
  },
  {
   "cell_type": "markdown",
   "id": "32199d59-bf16-4242-9043-166dd1f9cad3",
   "metadata": {},
   "source": [
    "## No Return Type. Arguments / Parameters\n",
    "\n",
    "1) Write A Program To Find Square Of A Number:"
   ]
  },
  {
   "cell_type": "code",
   "execution_count": 14,
   "id": "10d09722-7e55-4869-bf33-fb2061f64e72",
   "metadata": {},
   "outputs": [
    {
     "name": "stdin",
     "output_type": "stream",
     "text": [
      "Enter A Number To Find Its Square:  50\n"
     ]
    },
    {
     "name": "stdout",
     "output_type": "stream",
     "text": [
      "The Square of 50 is: 2500\n"
     ]
    }
   ],
   "source": [
    "def Square (Num):\n",
    "    Square = Num ** 2\n",
    "    print(f\"The Square of {Num} is: {Square}\")\n",
    "    \n",
    "if __name__ == '__main__':\n",
    "    try:\n",
    "        Num = int(input(\"Enter A Number To Find Its Square: \"))\n",
    "        Square(Num);\n",
    "    \n",
    "    except ValueError:\n",
    "        print(\"Enter A Valid Number To Find Its Square.\")"
   ]
  },
  {
   "cell_type": "markdown",
   "id": "d328aa34-b673-483e-a095-3d4c34c41c81",
   "metadata": {},
   "source": [
    "2) Write A Program To Add Two Float Numbers:\n"
   ]
  },
  {
   "cell_type": "code",
   "execution_count": null,
   "id": "49fc4f61-0f72-402a-b407-fa543a284164",
   "metadata": {},
   "outputs": [],
   "source": [
    "def Add(Num1, Num2):\n",
    "    Sum = Num1 + Num2\n",
    "    print(f\"Sum Of {Num1} And {Num2} Is {Sum}\")    \n",
    "    \n",
    "    \n",
    "if __name__ == '__main__':\n",
    "    try:\n",
    "        Num1 = float(input(\"Enter The First Number: \"))\n",
    "        Num2 = float(input(\"Enter The Second Number: \"))\n",
    "        Add(Num1, Num2)\n",
    "    \n",
    "    except ValueError:\n",
    "        print(\"Enter A Valid Number.\")"
   ]
  },
  {
   "cell_type": "markdown",
   "id": "84c03f8a-6055-4cef-935d-1870f16486dc",
   "metadata": {},
   "source": [
    "3) Write A Program To Check If It Is An Even Or An Odd Number:"
   ]
  },
  {
   "cell_type": "code",
   "execution_count": 23,
   "id": "d5f0e0cf-74b7-4ad1-b0e0-779e5bbf4e7c",
   "metadata": {},
   "outputs": [
    {
     "name": "stdin",
     "output_type": "stream",
     "text": [
      "Enter A Number:  203\n"
     ]
    },
    {
     "name": "stdout",
     "output_type": "stream",
     "text": [
      "203 Is An Odd Number\n"
     ]
    }
   ],
   "source": [
    "def Even_Odd(Num):\n",
    "    if Num % 2 == 0:\n",
    "        print(f\"{Num} Is An Even Number\")\n",
    "    else:\n",
    "        print(f\"{Num} Is An Odd Number\")\n",
    "        \n",
    "if __name__ == \"__main__\":\n",
    "    try:\n",
    "        Num = int(input(\"Enter A Number: \"))\n",
    "        Even_Odd(Num);\n",
    "    except ValueError:\n",
    "        print(\"Enter A Valid Number/Value.\")"
   ]
  },
  {
   "cell_type": "markdown",
   "id": "45af8d58-a015-452f-a688-c07bc166d677",
   "metadata": {},
   "source": [
    "# All To-Do Tasks Of Lecture 15:"
   ]
  },
  {
   "cell_type": "markdown",
   "id": "ab14826c-f8ee-43f1-889e-1cabcfe58cf5",
   "metadata": {},
   "source": [
    "## Return Type, No Arguments / Parameters\n",
    "\n",
    "1) Write A Program To Find Square Of A Number:"
   ]
  },
  {
   "cell_type": "code",
   "execution_count": 28,
   "id": "4ba55d40-5694-4639-9948-cdfb48c61aa1",
   "metadata": {},
   "outputs": [
    {
     "name": "stdin",
     "output_type": "stream",
     "text": [
      "Enter A Number:  50\n"
     ]
    },
    {
     "name": "stdout",
     "output_type": "stream",
     "text": [
      "Square Of 50 Is 2500\n"
     ]
    }
   ],
   "source": [
    "def Square():\n",
    "   \n",
    "   try:\n",
    "       Num = int(input(\"Enter A Number: \"))\n",
    "       \n",
    "       Square = Num ** 2\n",
    "       return Square, Num\n",
    "       \n",
    "   except ValueError:\n",
    "       print(\"Enter A Valid Number.\")\n",
    "       \n",
    "if __name__ == \"__main__\":\n",
    "    Result, Number = Square();  \n",
    "    print(f\"Square Of {Number} Is {Result}\")         "
   ]
  },
  {
   "cell_type": "markdown",
   "id": "043ba501-92eb-47da-9c16-7a7323af6aac",
   "metadata": {},
   "source": [
    "2) Write A Program To Add Two Float Numbers:\n"
   ]
  },
  {
   "cell_type": "code",
   "execution_count": 37,
   "id": "98475cb4-e349-4b0b-b571-7c787e138d39",
   "metadata": {},
   "outputs": [
    {
     "name": "stdin",
     "output_type": "stream",
     "text": [
      "Enter The First Number:  24.3\n",
      "Enter The Second Number:  9.4\n"
     ]
    },
    {
     "name": "stdout",
     "output_type": "stream",
     "text": [
      "Sum Of 24.3 And 9.4 Is 33.7\n"
     ]
    }
   ],
   "source": [
    "def Add():\n",
    "    try:\n",
    "            \n",
    "        Num1 = float(input(\"Enter The First Number: \"))\n",
    "        Num2 = float(input(\"Enter The Second Number: \"))\n",
    "        \n",
    "        Sum = Num1 + Num2\n",
    "    except ValueError:\n",
    "        print(\"Invalid Input. Enter A Numeric/(s) Values.\")\n",
    "    \n",
    "    return Sum, Num1, Num2\n",
    "\n",
    "if __name__ == \"__main__\":\n",
    "    Result, Num1, Num2 = Add();\n",
    "    print(f\"Sum Of {Num1} And {Num2} Is {Result}\")\n",
    "    "
   ]
  },
  {
   "cell_type": "markdown",
   "id": "66b75d56-38c4-4980-8286-18dc30857289",
   "metadata": {},
   "source": [
    "3) Write A Program To Check If It Is An Even Or An Odd Number:"
   ]
  },
  {
   "cell_type": "code",
   "execution_count": 41,
   "id": "d2837316-135c-48b6-b931-b4e5e941600f",
   "metadata": {},
   "outputs": [
    {
     "name": "stdin",
     "output_type": "stream",
     "text": [
      "Enter A Number:  999\n"
     ]
    },
    {
     "name": "stdout",
     "output_type": "stream",
     "text": [
      "999 Is An Odd Number.\n"
     ]
    }
   ],
   "source": [
    "def Even_Odd():\n",
    "    try:\n",
    "        Num = int(input(\"Enter A Number: \"))\n",
    "        if Num % 2 == 0:\n",
    "            Message = f\"{Num} Is An Even Number.\"\n",
    "        else:\n",
    "            Message = f\"{Num} Is An Odd Number.\"\n",
    "    except ValueError:\n",
    "        print(\"Invalid Input! Please Enter A Valid Integer.\")\n",
    "    \n",
    "    return Message\n",
    "        \n",
    "if __name__ == \"__main__\":\n",
    "    Result = Even_Odd();\n",
    "    print(Result)"
   ]
  },
  {
   "cell_type": "markdown",
   "id": "3d651e39-a41c-4f78-a6af-b7c29f8d489b",
   "metadata": {},
   "source": [
    "## Return Type, Arguments / Parameters\n",
    "\n",
    "1) Write A Program To Find Square Of A Number:"
   ]
  },
  {
   "cell_type": "code",
   "execution_count": null,
   "id": "df95cd8a-d673-405e-98b7-b4edb1ea43d4",
   "metadata": {},
   "outputs": [],
   "source": [
    "def Square(Num):\n",
    "    \n",
    "    Squared_Num = Num ** 2\n",
    "    return Squared_Num\n",
    "\n",
    "if __name__ == \"__main__\":\n",
    "    \n",
    "    try:\n",
    "        Num = int(input(\"Enter A Number: \"))\n",
    "        Result = Square(Num)\n",
    "        print(f\"Square Of {Num} Is {Result}\")\n",
    "    \n",
    "    except ValueError:\n",
    "        print(\"Please Enter A Valid Number.\")"
   ]
  },
  {
   "cell_type": "markdown",
   "id": "a30eac45-30b2-47c5-b688-d9a556c57fa7",
   "metadata": {},
   "source": [
    "2) Write A Program To Add Two Float Numbers:\n"
   ]
  },
  {
   "cell_type": "code",
   "execution_count": null,
   "id": "ebd09999-d7f1-4462-8b75-29422a3d2405",
   "metadata": {},
   "outputs": [],
   "source": [
    "def Add(Num1, Num2):\n",
    "    \n",
    "    Sum = Num1 + Num2\n",
    "    return Sum\n",
    "    \n",
    "if __name__ ==\"__main__\":\n",
    "    try:\n",
    "        Num1 = float(input(\"Enter The First Number: \"))\n",
    "        Num2 = float(input(\"Enter The Second Number: \"))\n",
    "        Sum = Add(Num1, Num2)\n",
    "        print(f\"Sum Of {Num1} And {Num2} Is {Sum}\")\n",
    "    \n",
    "    except ValueError:\n",
    "        print(\"Enter A Valid Number.\")"
   ]
  },
  {
   "cell_type": "markdown",
   "id": "105f2d26-1297-4cc9-ac2f-fdcd5a471e98",
   "metadata": {},
   "source": [
    "3) Write A Program To Check If It Is An Even Or An Odd Number:"
   ]
  },
  {
   "cell_type": "code",
   "execution_count": 50,
   "id": "9c2a43f4-68d4-4b22-8c2b-27e6e68c1d5a",
   "metadata": {},
   "outputs": [
    {
     "name": "stdin",
     "output_type": "stream",
     "text": [
      "Enter A Number:  5\n"
     ]
    },
    {
     "name": "stdout",
     "output_type": "stream",
     "text": [
      "5 Is An Odd Number\n"
     ]
    }
   ],
   "source": [
    "def Even_Odd(Num):\n",
    "    if Num % 2 == 0:\n",
    "        return \"Even\"\n",
    "    else:\n",
    "        return \"Odd\"\n",
    "    \n",
    "if __name__ == \"__main__\":\n",
    "    try:\n",
    "        Num = int(input(\"Enter A Number: \"))\n",
    "        Result = Even_Odd(Num);\n",
    "        print(f\"{Num} Is An {Result} Number\")\n",
    "    \n",
    "    except ValueError:\n",
    "        print(\"Enter A Number Instead.\")"
   ]
  },
  {
   "cell_type": "markdown",
   "id": "dde03f1d-c1fd-41e5-931a-5b65c3fde3e1",
   "metadata": {},
   "source": [
    "# All To-Do Tasks Of Lecture 16:"
   ]
  },
  {
   "cell_type": "markdown",
   "id": "8bbae1e5-3f2d-4282-bd52-452cf923db77",
   "metadata": {},
   "source": [
    "## To-Do Task 1:\n",
    "\n",
    "- Linear Data Structures:\n",
    "\n",
    "1) Deques (Double - Ended Queues), And Circular Queues\n",
    "2) Strings, And Sparse Matrices\n",
    "\n",
    "- Non-Linear Data Structures:\n",
    "\n",
    "1) Heaps, Binary Trees, Binary Search Trees\n",
    "2) Hash Tables, Tries\n",
    "\n",
    "## To-Do Task 2:\n"
   ]
  },
  {
   "cell_type": "code",
   "execution_count": null,
   "id": "c427338b-48e6-4dec-80f6-ce16deed7dc3",
   "metadata": {},
   "outputs": [],
   "source": [
    "marks = [88.5, 60.2, 70.8, 90.3, 20.6]\n",
    "\n",
    "# Acessing Elements, Array Size = 5-1 = 4\n",
    "\n",
    "print(f\"Value Of First Array Elements Is:\\n{marks[0]}\")\n",
    "print(f\"Value Of Second Array Elements Is:\\n{marks[1]}\")\n",
    "print(f\"Value Of Third Array Elements Is:\\n{marks[2]}\")\n",
    "print(f\"Value Of Fourth Array Elements Is:\\n{marks[3]}\")\n",
    "print(f\"Value Of Fifth Array Elements Is:\\n{marks[4]}\")\n",
    "\n",
    "# Storing Values In An Array [Part 1 / Initialization]:\n",
    "\n",
    "marks = [88.5, 60.2, 70.8, 90.3, 20.6]\n",
    "\n",
    "# Storing Values In An Array [Part 2 / Code Time]:\n",
    "\n",
    "marks = [0] * 5\n",
    "marks [0] = 88.5\n",
    "marks [1] = 60.2\n",
    "marks [2] = 70.8\n",
    "marks [3] = 90.3\n",
    "marks [4] = 20.6\n",
    "\n",
    "# Storing Values In An Array [Part 3 / Run Time]:\n",
    "\n",
    "try:\n",
    "    marks = []  # Initialize once before the loop\n",
    "    for i in range(0, 5):\n",
    "        print(f\"Enter Your Marks {i}: \")\n",
    "        mark = float(input())\n",
    "        marks += [mark]\n",
    "        print(\"Values Of Marks Entered Are \", marks)\n",
    "except ValueError:\n",
    "    print(\"Incorrect Value Entered.\")\n",
    "\n",
    "\n"
   ]
  },
  {
   "cell_type": "markdown",
   "id": "6fb72fe1-0d72-4586-8a7b-ee6f5a58e8f8",
   "metadata": {},
   "source": [
    "## To-Do Task 3:"
   ]
  },
  {
   "cell_type": "code",
   "execution_count": null,
   "id": "0a191ef0-08ec-4986-8313-23f728cd91e7",
   "metadata": {},
   "outputs": [],
   "source": [
    "marks = [88.5, 60.2, 70.8, 90.3, 20.6]\n",
    "\n",
    "# Printing Array Elements Without Loop:\n",
    "\n",
    "print(f\"Value Of First Array Elements Is:\\n{marks[0]}\")\n",
    "print(f\"Value Of Second Array Elements Is:\\n{marks[1]}\")\n",
    "print(f\"Value Of Third Array Elements Is:\\n{marks[2]}\")\n",
    "print(f\"Value Of Fourth Array Elements Is:\\n{marks[3]}\")\n",
    "print(f\"Value Of Fifth Array Elements Is:\\n{marks[4]}\")\n",
    "\n",
    "# Printing Array Elements With Loop:\n",
    "\n",
    "try:\n",
    "    marks = [88.5, 60.2, 70.8, 90.3, 20.6]\n",
    "    counter = 0\n",
    "    for mark in marks:\n",
    "        print(f\"Value Of Array Element {counter+1} Is:\", marks[counter])\n",
    "        counter += 1\n",
    "except ValueError:\n",
    "    print(\"Invalid Value Entered.\")\n",
    "    \n",
    "# Printing Array Elements All At Once:\n",
    "\n",
    "try:\n",
    "    marks = [88.5, 60.2, 70.8, 90.3, 20.6]\n",
    "    print(marks)\n",
    "    \n",
    "except ValueError:\n",
    "    print(\"Invalid Value Entered.\")"
   ]
  },
  {
   "cell_type": "markdown",
   "id": "aa30b833-3741-47f5-8bc3-91dd79071781",
   "metadata": {},
   "source": [
    "# All Your-Turn Tasks Of Lecture 16:"
   ]
  },
  {
   "cell_type": "markdown",
   "id": "f85554e0-cbd9-437f-b68c-3c1055088ebd",
   "metadata": {},
   "source": [
    "## Your-Turn Task 1:\n",
    "\n",
    "- C: \n",
    "\n",
    "1) Linear: Arrays, Strings, Linked Lists, Doubly Linked Lists, Stacks, Queues, Sparse Matrices\n",
    "2) Non-Linear: Trees, Binary Trees, Heaps, Graphs, Tries, AVL Trees, B-Trees\n",
    "\n",
    "- Java:\n",
    "\n",
    "1) Linear: Arrays, Strings, ArrayLists, LinkedLists, Vectors, Queues, Sparse Arrays\n",
    "2) Non-Linear: Trees, Binary Trees, Binary Search Trees, Heaps, Graphs, Tries, B-Trees\n",
    "\n",
    "- React JS:\n",
    "\n",
    "1) Linear: Arrays, Strings, Lists, Queues, Stacks, Linked Lists, Typed Arrays\n",
    "2) Non-Linear: Trees, Graphs, Tries, Heaps, Directed Acylic Graphs, B-Trees, Hash Tables\n",
    "\n",
    "- Ruby On Rail:\n",
    "\n",
    "1) Linear: Arrays, Strings, Hashes, Queues, Stacks, Linked Lists, Ranges\n",
    "2) Non Linear: Trees, Graphs, Heaps, Tries, Directed Acylic Graphs, B-Trees, Red-Black Trees\n",
    "\n",
    "## Your-Turn Task 2:\n"
   ]
  },
  {
   "cell_type": "code",
   "execution_count": null,
   "id": "bae96d86-16be-4382-acbe-7b2cd192c719",
   "metadata": {},
   "outputs": [],
   "source": [
    "speed = [138.5, 90.2, 121.8, 73.3, 47.6]\n",
    "\n",
    "# Acessing Elements, Array Size = 5-1 = 4\n",
    "\n",
    "print(f\"Value Of First Array Elements Is:\\n{speed[0]}\")\n",
    "print(f\"Value Of Second Array Elements Is:\\n{speed[1]}\")\n",
    "print(f\"Value Of Third Array Elements Is:\\n{speed[2]}\")\n",
    "print(f\"Value Of Fourth Array Elements Is:\\n{speed[3]}\")\n",
    "print(f\"Value Of Fifth Array Elements Is:\\n{speed[4]}\")\n",
    "\n",
    "# Storing Values In An Array [Part 1 / Initialization]:\n",
    "\n",
    "speed = [138.5, 90.2, 121.8, 73.3, 47.6]\n",
    "\n",
    "# Storing Values In An Array [Part 2 / Code Time]:\n",
    "\n",
    "speed = [0] * 5\n",
    "speed [0] = 88.5\n",
    "speed [1] = 60.2\n",
    "speed [2] = 70.8\n",
    "speed [3] = 90.3\n",
    "speed [4] = 20.6\n",
    "\n",
    "# Storing Values In An Array [Part 3 / Run Time]:\n",
    "\n",
    "try:\n",
    "    speeds = []  # Initialize once before the loop\n",
    "    for i in range(0, 5):\n",
    "        print(f\"Enter Your Marks {i}: \")\n",
    "        speed = float(input())\n",
    "        speeds += [speed]\n",
    "        print(\"Values Of Speeds Entered Are: \", speed)\n",
    "except ValueError:\n",
    "    print(\"Incorrect Value Entered.\")"
   ]
  },
  {
   "cell_type": "markdown",
   "id": "e0228f3e-313c-4022-a821-9535cd6faf71",
   "metadata": {},
   "source": [
    "## Your-Turn Task 3:"
   ]
  },
  {
   "cell_type": "code",
   "execution_count": null,
   "id": "62e8c5bd-ba1f-4f2d-9cdf-97743be5fb54",
   "metadata": {},
   "outputs": [],
   "source": [
    "speed = [138.5, 90.2, 121.8, 73.3, 47.6]\n",
    "\n",
    "# Printing Array Elements Without Loop:\n",
    "\n",
    "print(f\"Value Of First Array Elements Is:\\n{speed[0]}\")\n",
    "print(f\"Value Of Second Array Elements Is:\\n{speed[1]}\")\n",
    "print(f\"Value Of Third Array Elements Is:\\n{speed[2]}\")\n",
    "print(f\"Value Of Fourth Array Elements Is:\\n{speed[3]}\")\n",
    "print(f\"Value Of Fifth Array Elements Is:\\n{speed[4]}\")\n",
    "\n",
    "# Printing Array Elements With Loop:\n",
    "\n",
    "try:\n",
    "    speeds = [138.5, 90.2, 121.8, 73.3, 47.6]\n",
    "    counter = 0\n",
    "    for speed in speeds:\n",
    "        print(f\"Value Of Array Element {counter+1} Is:\", speeds[counter])\n",
    "        counter += 1\n",
    "except ValueError:\n",
    "    print(\"Invalid Value Entered.\")\n",
    "    \n",
    "# Printing Array Elements All At Once:\n",
    "\n",
    "try:\n",
    "    speeds = [138.5, 90.2, 121.8, 73.3, 47.6]\n",
    "    print(speeds)\n",
    "    \n",
    "except ValueError:\n",
    "    print(\"Invalid Value Entered.\")"
   ]
  },
  {
   "cell_type": "markdown",
   "id": "4e20cec8-16b5-4bb0-b205-b56d415f5aa2",
   "metadata": {},
   "source": [
    "# All To-Do Tasks Of Lecture 17:"
   ]
  },
  {
   "cell_type": "markdown",
   "id": "3905a0dc-91c8-495b-b110-0d286e5dbc8d",
   "metadata": {},
   "source": [
    "# All Your-Turn Tasks Of Lecture 17:\n"
   ]
  },
  {
   "cell_type": "markdown",
   "id": "029ae64a-ada3-4686-a479-5bd999d9f586",
   "metadata": {},
   "source": [
    "## To-Do Task 1:\n"
   ]
  },
  {
   "cell_type": "code",
   "execution_count": 37,
   "id": "52dab963-136a-4ed6-8df0-e42323f6a27d",
   "metadata": {},
   "outputs": [
    {
     "name": "stdout",
     "output_type": "stream",
     "text": [
      "Hazrat Muhammad (PBUH) Is The Last Messenger Of Allah.\n",
      "Length: 54\n",
      "\n",
      "Hazrat Muhammad (PBUH) Is The Last Messenger Of Allah. He's (PBUH) Role Model For Us In All Fields Of Life.\n",
      "Length: 107\n",
      "\n",
      "Hazrat Muhammad (PBUH) Is The Last Messenger Of Allah. He's (PBUH) Role Model For Us In All Fields Of Life. One Who Doesn't Accept Hazrat Muhammad (PBUH) As The Last Messenger Of Allah Is A Non-Muslim.\n",
      "Length: 201\n",
      "\n"
     ]
    }
   ],
   "source": [
    "\n",
    "#Single Quotes:\n",
    "print('Hazrat Muhammad (PBUH) Is The Last Messenger Of Allah.')\n",
    "print(\"Length:\",len('Hazrat Muhammad (PBUH) Is The Last Messenger Of Allah.'))\n",
    "print()\n",
    "\n",
    "#Double Quotes:\n",
    "print(\"Hazrat Muhammad (PBUH) Is The Last Messenger Of Allah. He's (PBUH) Role Model For Us In All Fields Of Life.\")\n",
    "print(\"Length:\",len(\"Hazrat Muhammad (PBUH) Is The Last Messenger Of Allah. He's (PBUH) Role Model For Us In All Fields Of Life.\"))\n",
    "print()\n",
    "\n",
    "#Triple Quotes:\n",
    "print('''Hazrat Muhammad (PBUH) Is The Last Messenger Of Allah. He's (PBUH) Role Model For Us In All Fields Of Life. One Who Doesn't Accept Hazrat Muhammad (PBUH) As The Last Messenger Of Allah Is A Non-Muslim.''')\n",
    "print(\"Length:\",len('''Hazrat Muhammad (PBUH) Is The Last Messenger Of Allah. He's (PBUH) Role Model For Us In All Fields Of Life. One Who Doesn't Accept Hazrat Muhammad (PBUH) As The Last Messenger Of Allah Is A Non-Muslim.'''))\n",
    "print()"
   ]
  },
  {
   "cell_type": "markdown",
   "id": "a7fe24c3-fec8-486a-b481-4fec1d13d4f7",
   "metadata": {},
   "source": [
    "## To-Do Task 2:"
   ]
  },
  {
   "cell_type": "code",
   "execution_count": 52,
   "id": "209edf70-d17c-4817-8742-8dbc27a50b51",
   "metadata": {},
   "outputs": [
    {
     "name": "stdout",
     "output_type": "stream",
     "text": [
      "Message 1 = Hazrat Muhammad (PBUH) Is The Last Messenger Of Allah.\n",
      "Length 54\n",
      "<class 'str'>\n",
      "\n",
      "Message 2: Hazrat Muhammad (PBUH) Is The Last Messenger Of Allah. He's (PBUH) Role Model For Us In All Fields Of Life.\n",
      "Length 107\n",
      "<class 'str'>\n",
      "\n",
      "Message 3 = Hazrat Muhammad (PBUH) Is The Last Messenger Of Allah. He's (PBUH) Role Model For Us In All Fields Of Life. One Who Doesn't Accept Hazrat Muhammad (PBUH) As The Last Messenger Of Allah Is A Non-Muslim.\n",
      "Length 201\n",
      "<class 'str'>\n",
      "\n"
     ]
    }
   ],
   "source": [
    "#Single Quotes:\n",
    "Message_1 = 'Hazrat Muhammad (PBUH) Is The Last Messenger Of Allah.'\n",
    "print(\"Message 1 = \" + Message_1)\n",
    "print(\"Length\",len(Message_1))\n",
    "\n",
    "print(type(Message_1))\n",
    "print()\n",
    "\n",
    "#Double Quotes:\n",
    "Message_2 = \"Hazrat Muhammad (PBUH) Is The Last Messenger Of Allah. He's (PBUH) Role Model For Us In All Fields Of Life.\"\n",
    "print(\"Message 2: \" + Message_2)\n",
    "print(\"Length\",len(Message_2))\n",
    "print(type(Message_2))\n",
    "print()\n",
    "\n",
    "#Triple Quotes:\n",
    "Message_3 = '''Hazrat Muhammad (PBUH) Is The Last Messenger Of Allah. He's (PBUH) Role Model For Us In All Fields Of Life. One Who Doesn't Accept Hazrat Muhammad (PBUH) As The Last Messenger Of Allah Is A Non-Muslim.'''\n",
    "print(\"Message 3 = \" + Message_3)\n",
    "print(\"Length\",len(Message_3))\n",
    "print(type(Message_3))\n",
    "print()"
   ]
  },
  {
   "cell_type": "markdown",
   "id": "ff8505bf-02da-476a-a539-76c1c5339b0e",
   "metadata": {},
   "source": [
    "## To-Do Task 3:"
   ]
  },
  {
   "cell_type": "code",
   "execution_count": 78,
   "id": "8e12ae8a-7517-4de2-a314-b149dcfd5f10",
   "metadata": {},
   "outputs": [
    {
     "name": "stdout",
     "output_type": "stream",
     "text": [
      "Original Message = Hazrat Muhammad (PBUH) is the last Messenger of Allah.\n",
      "Title Message = Hazrat Muhammad (Pbuh) Is The Last Messenger Of Allah.\n",
      "\n",
      "Original Message = Hazrat Muhammad (PBUH) is the last Messenger of Allah.\n",
      "Capatilized Message = Hazrat muhammad (pbuh) is the last messenger of allah.\n",
      "\n",
      "Original Message = Hazrat Muhammad (PBUH) is the last Messenger of Allah.\n",
      "Upper Message = HAZRAT MUHAMMAD (PBUH) IS THE LAST MESSENGER OF ALLAH.\n",
      "\n",
      "Original Message = Hazrat Muhammad (PBUH) is the last Messenger of Allah.\n",
      "Lower Message = hazrat muhammad (pbuh) is the last messenger of allah.\n",
      "\n",
      "Original Message = Hazrat Muhammad (PBUH) is the last Messenger of Allah.\n",
      "Center Message = \n",
      "                       Hazrat Muhammad (PBUH) is the last Messenger of Allah.                       \n"
     ]
    }
   ],
   "source": [
    "Message = \"Hazrat Muhammad (PBUH) is the last Messenger of Allah.\"\n",
    "\n",
    "print(\"Original Message = \"+Message)\n",
    "print(\"Title Message = \"+Message.title())\n",
    "\n",
    "print()\n",
    "print(\"Original Message = \"+Message)\n",
    "print(\"Capatilized Message = \"+Message.capitalize())\n",
    "\n",
    "print()\n",
    "print(\"Original Message = \"+Message)\n",
    "print(\"Upper Message = \"+Message.upper())\n",
    "\n",
    "print()\n",
    "print(\"Original Message = \"+Message)\n",
    "print(\"Lower Message = \"+Message.lower())\n",
    "\n",
    "print()\n",
    "print(\"Original Message = \"+Message)\n",
    "print(\"Center Message = \")\n",
    "print(Message.center(100))"
   ]
  },
  {
   "cell_type": "markdown",
   "id": "1d7f59fb-7c8b-414c-bc74-76b536aa04d2",
   "metadata": {},
   "source": [
    "## To-Do Task 4:"
   ]
  },
  {
   "cell_type": "code",
   "execution_count": 142,
   "id": "f8918ef1-0576-4f8b-8da6-a60411c799b9",
   "metadata": {},
   "outputs": [
    {
     "name": "stdout",
     "output_type": "stream",
     "text": [
      "Original Message: Hazrat Muhammad (PBUH) is role model for us in all fields of life. He Is The Best.\n",
      "Element At First Index: H\n",
      "Element At Fifth Index: a\n",
      "Element At Ninth Index: u\n",
      "Element At Last Index: .\n",
      "\n",
      "Original Message: Hazrat Muhammad (PBUH) is role model for us in all fields of life. He Is The Best.\n",
      "First Sentence Of The String:  Hazrat Muhammad (PBUH) is role model for us in all fields of life. He Is The Best.\n",
      "First Word Of The String:  Hazrat\n",
      "Last Word Of The String:  life\n",
      "\n",
      "Original Message: Hazrat Muhammad (PBUH) is role model for us in all fields of life. He Is The Best.\n",
      "After Splitting With ' ': ['Hazrat', 'Muhammad', '(PBUH)', 'is', 'role', 'model', 'for', 'us', 'in', 'all', 'fields', 'of', 'life.', 'He', 'Is', 'The', 'Best.']\n",
      "After Splitting With '.': ['Hazrat Muhammad (PBUH) is role model for us in all fields of life', ' He Is The Best', '']\n"
     ]
    }
   ],
   "source": [
    "Message = \"Hazrat Muhammad (PBUH) is role model for us in all fields of life. He Is The Best.\"\n",
    "\n",
    "print(\"Original Message: \"+ Message)\n",
    "print(\"Element At First Index:\",Message[0])\n",
    "print(\"Element At Fifth Index:\",Message[4])\n",
    "print(\"Element At Ninth Index:\",Message[8])\n",
    "print(\"Element At Last Index:\",Message[-1])\n",
    "\n",
    "print()\n",
    "print(\"Original Message: \"+ Message)\n",
    "print(\"First Sentence Of The String: \", Message[0:])\n",
    "print(\"First Word Of The String: \", Message [0:6])\n",
    "print(\"Last Word Of The String: \", Message [61:65])\n",
    "\n",
    "print()\n",
    "print(\"Original Message: \"+ Message)\n",
    "print(\"After Splitting With ' ':\", Message.split(' '))\n",
    "print(\"After Splitting With '.':\", Message.split('.'))\n"
   ]
  },
  {
   "cell_type": "markdown",
   "id": "dd600055-23af-4bfc-9e2a-63daa7fc6d21",
   "metadata": {},
   "source": [
    "## To-Do Task 5:"
   ]
  },
  {
   "cell_type": "code",
   "execution_count": 181,
   "id": "bd5938e5-4231-4a7b-b8eb-d29862917e34",
   "metadata": {},
   "outputs": [
    {
     "name": "stdout",
     "output_type": "stream",
     "text": [
      "Original Message =        Hazrat Muhammad (PBUH) is the last Messenger of Allah.    \n",
      "After Using Strip Function: Hazrat Muhammad (PBUH) is the last Messenger of Allah.\n",
      "\n",
      "Original Message =        Hazrat Muhammad (PBUH) is the last Messenger of Allah.    \n",
      "After Using RStrip Function:       Hazrat Muhammad (PBUH) is the last Messenger of Allah.\n",
      "\n",
      "Original Message =        Hazrat Muhammad (PBUH) is the last Messenger of Allah.    \n",
      "After Using LStrip Function: Hazrat Muhammad (PBUH) is the last Messenger of Allah.    \n"
     ]
    }
   ],
   "source": [
    "Message = \"      Hazrat Muhammad (PBUH) is the last Messenger of Allah.    \"\n",
    "\n",
    "print(\"Original Message = \",Message)\n",
    "print(\"After Using Strip Function:\",Message.strip())\n",
    "print()\n",
    "\n",
    "print(\"Original Message = \",Message)\n",
    "print(\"After Using RStrip Function:\",Message.rstrip())\n",
    "\n",
    "print()\n",
    "print(\"Original Message = \",Message)\n",
    "print(\"After Using LStrip Function:\",Message.lstrip())"
   ]
  },
  {
   "cell_type": "markdown",
   "id": "41861c63-d1aa-4391-8893-2a3c5b1089c4",
   "metadata": {},
   "source": [
    "## To-Do Task 6:"
   ]
  },
  {
   "cell_type": "code",
   "execution_count": 2,
   "id": "0b7f7322-62b1-4246-b7b6-54771a89abb4",
   "metadata": {},
   "outputs": [
    {
     "name": "stdout",
     "output_type": "stream",
     "text": [
      "String '125' Type: <class 'str'>\n",
      "After Conversion: Type: <class 'int'>\n",
      "\n",
      "Integer '125' Type: <class 'int'>\n",
      "After Conversion: Type: <class 'str'>\n"
     ]
    }
   ],
   "source": [
    "Message = \"125\"\n",
    "Integer = 428\n",
    "\n",
    "print(\"String '125' Type:\", type(Message))\n",
    "print(\"After Conversion:\", \"Type:\",type(int(Message)))\n",
    "\n",
    "print()\n",
    "print(\"Integer '125' Type:\",type(Integer))\n",
    "print(\"After Conversion:\",\"Type:\",type(str(Integer)))\n",
    "\n"
   ]
  },
  {
   "cell_type": "markdown",
   "id": "cf7b2ac2-14f0-4feb-89bc-2d2e036adf5a",
   "metadata": {},
   "source": [
    "## To-Do Task 7:"
   ]
  },
  {
   "cell_type": "code",
   "execution_count": null,
   "id": "15920f10-fb48-4d0b-8a03-ed120b78da15",
   "metadata": {},
   "outputs": [],
   "source": [
    "# Traversing (1)\n",
    "\n",
    "Message = \"Muhammad\"\n",
    "print(Message)\n",
    "print()\n",
    "\n",
    "# Traversing (2)\n",
    "Message = \"Muhammad\"\n",
    "\n",
    "print(\"Approach 1 - Iterating Over A String:\")\n",
    "print()\n",
    "for i in Message:\n",
    "    print(i)\n",
    "    \n",
    "print()\n",
    "Message = \"Muhammad\"\n",
    "print(\"Approach 2 - Iterating Element By Element\")\n",
    "for i in range(0, len(Message)):\n",
    "    print(\"Message[\",i,\"]:\" + Message[i] )\n",
    "    \n",
    "print()\n",
    "Message = \"Muhammad\"\n",
    "Counter = 0\n",
    "print(\"Approach 3 - Iterating Element By Element\")\n",
    "for i in Message[0:len(Message):1]:\n",
    "    Counter = Counter + 1\n",
    "    print(\"Message[\",Counter,\"]:\" + i)"
   ]
  },
  {
   "cell_type": "markdown",
   "id": "e4035f04-5c01-418c-83c9-aae27f76c23b",
   "metadata": {},
   "source": [
    "# All Your-Turn Tasks Of Lecture 17:\n",
    "\n",
    "## Your-Turn Task 1:"
   ]
  },
  {
   "cell_type": "code",
   "execution_count": 35,
   "id": "f48036b1-0852-406f-a34d-1a9d56deb2d1",
   "metadata": {},
   "outputs": [
    {
     "name": "stdout",
     "output_type": "stream",
     "text": [
      "I Love Python Programming Language!\n",
      "Length: 35\n",
      "\n",
      "Python Is Fun, And I Am Having Fun Creating Extra Projects.\n",
      "Length: 59\n",
      "\n",
      "Python's Simplicity And Indentation Makes The Code Clearer When It's Written.\n",
      "Length: 77\n",
      "\n"
     ]
    }
   ],
   "source": [
    "# Single Quotes:\n",
    "print('I Love Python Programming Language!')\n",
    "print(\"Length:\", len('I Love Python Programming Language!'))\n",
    "print()\n",
    "\n",
    "# Double Quotes:\n",
    "print(\"Python Is Fun, And I Am Having Fun Creating Extra Projects.\")\n",
    "print(\"Length:\", len(\"Python Is Fun, And I Am Having Fun Creating Extra Projects.\"))\n",
    "print()\n",
    "\n",
    "# Triple Quotes:\n",
    "print('''Python's Simplicity And Indentation Makes The Code Clearer When It's Written.''')\n",
    "print(\"Length:\", len('''Python's Simplicity And Indentation Makes The Code Clearer When It's Written.'''))\n",
    "print()\n"
   ]
  },
  {
   "cell_type": "markdown",
   "id": "742d954a-3d11-4f27-921f-7ffe68837fe5",
   "metadata": {},
   "source": [
    "## Your-Turn Task 2:"
   ]
  },
  {
   "cell_type": "code",
   "execution_count": 56,
   "id": "5302d615-6efa-4fc0-b836-7dc8b991cd45",
   "metadata": {},
   "outputs": [
    {
     "name": "stdout",
     "output_type": "stream",
     "text": [
      "Message 1 = I Love Python Programming Language!\n",
      "Length: 35\n",
      "<class 'str'>\n",
      "\n",
      "Message 2 = Python Is Fun, And I Am Having Fun Creating Extra Projects.\n",
      "Length: 59\n",
      "<class 'str'>\n",
      "\n",
      "Message 3 = Python's Simplicity And Indentation Makes The Code Clearer When It's Written.\n",
      "Length: 77\n",
      "<class 'str'>\n",
      "\n"
     ]
    }
   ],
   "source": [
    "# Single Quotes:\n",
    "Message_1 = 'I Love Python Programming Language!'\n",
    "print(\"Message 1 = \" + Message_1)\n",
    "print(\"Length:\",len(Message_1))\n",
    "print(type(Message_1))\n",
    "print()\n",
    "\n",
    "# Double Quotes:\n",
    "Message_2 = \"Python Is Fun, And I Am Having Fun Creating Extra Projects.\"\n",
    "print(\"Message 2 = \" + Message_2)\n",
    "print(\"Length:\",len(Message_2))\n",
    "\n",
    "print(type(Message_2))\n",
    "print()\n",
    "\n",
    "# Triple Quotes:\n",
    "Message_3 = '''Python's Simplicity And Indentation Makes The Code Clearer When It's Written.'''\n",
    "print(\"Message 3 = \" + Message_3)\n",
    "print(\"Length:\",len(Message_3))\n",
    "print(type(Message_3))\n",
    "print()\n"
   ]
  },
  {
   "cell_type": "markdown",
   "id": "89946436-5c01-4ab6-b022-21fd3fb1feab",
   "metadata": {},
   "source": [
    "# Your-Turn Task 3:"
   ]
  },
  {
   "cell_type": "code",
   "execution_count": 83,
   "id": "910e190e-339b-4ba2-8b35-56e5a5de5928",
   "metadata": {},
   "outputs": [
    {
     "name": "stdout",
     "output_type": "stream",
     "text": [
      "Original Message = Python is slower as compared to C/C+++\n",
      "Title Message = Python Is Slower As Compared To C/C+++\n",
      "\n",
      "Original Message = Python is slower as compared to C/C+++\n",
      "Capatilized Message = Python is slower as compared to c/c+++\n",
      "\n",
      "Original Message = Python is slower as compared to C/C+++\n",
      "Upper Message = PYTHON IS SLOWER AS COMPARED TO C/C+++\n",
      "\n",
      "Original Message = Python is slower as compared to C/C+++\n",
      "Lower Message = python is slower as compared to c/c+++\n",
      "\n",
      "Original Message = Python is slower as compared to C/C+++\n",
      "Center Message = \n",
      "                               Python is slower as compared to C/C+++                               \n"
     ]
    }
   ],
   "source": [
    "Message = \"Python is slower as compared to C/C+++\"\n",
    "\n",
    "print(\"Original Message = \"+Message)\n",
    "print(\"Title Message = \"+Message.title())\n",
    "\n",
    "print()\n",
    "print(\"Original Message = \"+Message)\n",
    "print(\"Capatilized Message = \"+Message.capitalize())\n",
    "\n",
    "print()\n",
    "print(\"Original Message = \"+Message)\n",
    "print(\"Upper Message = \"+Message.upper())\n",
    "\n",
    "print()\n",
    "print(\"Original Message = \"+Message)\n",
    "print(\"Lower Message = \"+Message.lower())\n",
    "\n",
    "print()\n",
    "print(\"Original Message = \"+Message)\n",
    "print(\"Center Message = \")\n",
    "print(Message.center(100))"
   ]
  },
  {
   "cell_type": "markdown",
   "id": "0683d62a-ceff-4226-bc9b-3810986273c9",
   "metadata": {},
   "source": [
    "## Your-Turn Task 4:"
   ]
  },
  {
   "cell_type": "code",
   "execution_count": 157,
   "id": "6ee01224-8c88-4d7b-83c0-8b2326fe4285",
   "metadata": {},
   "outputs": [
    {
     "name": "stdout",
     "output_type": "stream",
     "text": [
      "Original Message: Python is slower as compared to C/C+++. Python is used in Web Development as well.\n",
      "Element At First Index: P\n",
      "Element At Fifth Index: o\n",
      "Element At Ninth Index: s\n",
      "Element At Last Index: .\n",
      "\n",
      "Original Message: Python is slower as compared to C/C+++. Python is used in Web Development as well.\n",
      "First Sentence Of The String:  Python is slower as compared to C/C+++.\n",
      "First Word Of The String:  Python\n",
      "\n",
      "Original Message: Python is slower as compared to C/C+++. Python is used in Web Development as well.\n",
      "After Splitting With ' ': ['Python', 'is', 'slower', 'as', 'compared', 'to', 'C/C+++.', 'Python', 'is', 'used', 'in', 'Web', 'Development', 'as', 'well.']\n",
      "After Splitting With '.': ['Python is slower as compared to C/C+++', ' Python is used in Web Development as well', '']\n"
     ]
    }
   ],
   "source": [
    "Message = \"Python is slower as compared to C/C+++. Python is used in Web Development as well.\"\n",
    "\n",
    "print(\"Original Message: \"+ Message)\n",
    "print(\"Element At First Index:\",Message[0])\n",
    "print(\"Element At Fifth Index:\",Message[4])\n",
    "print(\"Element At Ninth Index:\",Message[8])\n",
    "print(\"Element At Last Index:\",Message[-1])\n",
    "\n",
    "print()\n",
    "print(\"Original Message: \"+ Message)\n",
    "print(\"First Sentence Of The String: \", Message[0:39])\n",
    "print(\"First Word Of The String: \", Message [0:6])\n",
    "\n",
    "print()\n",
    "print(\"Original Message: \"+ Message)\n",
    "print(\"After Splitting With ' ':\", Message.split(' '))\n",
    "print(\"After Splitting With '.':\", Message.split('.'))\n"
   ]
  },
  {
   "cell_type": "markdown",
   "id": "ec321f47-d220-44ba-adc5-dcc1653c6562",
   "metadata": {},
   "source": [
    "# Your-Turn Task 5:"
   ]
  },
  {
   "cell_type": "code",
   "execution_count": 184,
   "id": "2465bd29-581b-49c1-89f0-8b210622d323",
   "metadata": {},
   "outputs": [
    {
     "name": "stdout",
     "output_type": "stream",
     "text": [
      "Original Message =            Python is slower as compared to C/C+++.          \n",
      "After Using Strip Function: Python is slower as compared to C/C+++.\n",
      "\n",
      "Original Message =            Python is slower as compared to C/C+++.          \n",
      "After Using RStrip Function:           Python is slower as compared to C/C+++.\n",
      "\n",
      "Original Message =            Python is slower as compared to C/C+++.          \n",
      "After Using LStrip Function: Python is slower as compared to C/C+++.          \n"
     ]
    }
   ],
   "source": [
    "Message = \"          Python is slower as compared to C/C+++.          \"\n",
    "\n",
    "\n",
    "print(\"Original Message = \",Message)\n",
    "print(\"After Using Strip Function:\",Message.strip())\n",
    "print()\n",
    "\n",
    "print(\"Original Message = \",Message)\n",
    "print(\"After Using RStrip Function:\",Message.rstrip())\n",
    "\n",
    "print()\n",
    "print(\"Original Message = \",Message)\n",
    "print(\"After Using LStrip Function:\",Message.lstrip())"
   ]
  },
  {
   "cell_type": "markdown",
   "id": "99eb1cb9-d03e-4e5c-bfb6-902aff6e81bd",
   "metadata": {},
   "source": [
    "## Your-Turn Task 6:"
   ]
  },
  {
   "cell_type": "code",
   "execution_count": 5,
   "id": "295d33d2-9b08-4995-83fd-84b9143f3a47",
   "metadata": {},
   "outputs": [
    {
     "name": "stdout",
     "output_type": "stream",
     "text": [
      "String '777' Type: <class 'str'>\n",
      "After Conversion: Type: <class 'int'>\n",
      "\n",
      "Integer '1048' Type: <class 'int'>\n",
      "After Conversion: Type: <class 'str'>\n"
     ]
    }
   ],
   "source": [
    "Message = \"777\"\n",
    "Integer = 1048\n",
    "\n",
    "print(\"String '777' Type:\", type(Message))\n",
    "print(\"After Conversion:\", \"Type:\",type(int(Message)))\n",
    "\n",
    "print()\n",
    "print(\"Integer '1048' Type:\",type(Integer))\n",
    "print(\"After Conversion:\",\"Type:\",type(str(Integer)))\n",
    "\n"
   ]
  },
  {
   "cell_type": "markdown",
   "id": "a4c0918e-3c9e-4d74-9dc1-924151b35843",
   "metadata": {},
   "source": [
    "## Your-Turn Task 7:"
   ]
  },
  {
   "cell_type": "code",
   "execution_count": null,
   "id": "e2f76054-1af0-4f1b-9a7a-522f2fe4034a",
   "metadata": {},
   "outputs": [],
   "source": [
    "# Traversing (1)\n",
    "\n",
    "Message = \"Prophet Muhammad (SAW).\"\n",
    "print(Message)\n",
    "print()\n",
    "\n",
    "# Traversing (2)\n",
    "Message = \"Prophet Muhammad (SAW).\"\n",
    "\n",
    "print(\"Approach 1 - Iterating Over A String:\")\n",
    "print()\n",
    "for i in Message:\n",
    "    print(i)\n",
    "    \n",
    "print()\n",
    "Message = \"Prophet Muhammad (SAW).\"\n",
    "print(\"Approach 2 - Iterating Element By Element\")\n",
    "for i in range(0, len(Message)):\n",
    "    print(\"Message[\",i,\"]:\" + Message[i] )\n",
    "    \n",
    "print()\n",
    "Message = \"Prophet Muhammad (SAW).\"\n",
    "Counter = 0\n",
    "print(\"Approach 3 - Iterating Element By Element\")\n",
    "for i in Message[0:len(Message):1]:\n",
    "    Counter = Counter + 1\n",
    "    print(\"Message[\",Counter,\"]:\" + i)"
   ]
  }
 ],
 "metadata": {
  "kernelspec": {
   "display_name": "Python 3 (ipykernel)",
   "language": "python",
   "name": "python3"
  },
  "language_info": {
   "codemirror_mode": {
    "name": "ipython",
    "version": 3
   },
   "file_extension": ".py",
   "mimetype": "text/x-python",
   "name": "python",
   "nbconvert_exporter": "python",
   "pygments_lexer": "ipython3",
   "version": "3.12.4"
  }
 },
 "nbformat": 4,
 "nbformat_minor": 5
}
